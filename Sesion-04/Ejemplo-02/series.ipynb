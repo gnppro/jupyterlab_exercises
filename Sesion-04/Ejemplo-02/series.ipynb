{
 "cells": [
  {
   "cell_type": "markdown",
   "metadata": {},
   "source": [
    "## Ejemplo 2: Series\n",
    "\n",
    "### 1. Objetivos:\n",
    "    - Entender qué son las `Series`\n",
    "    - Aprender a crear `Series` de pandas\n",
    "    - Aprender los métodos básicos de indexación de las `Series`\n",
    " \n",
    "---\n",
    "    \n",
    "### 2. Desarrollo:"
   ]
  },
  {
   "cell_type": "code",
   "execution_count": 2,
   "metadata": {},
   "outputs": [],
   "source": [
    "import pandas as pd"
   ]
  },
  {
   "cell_type": "markdown",
   "metadata": {},
   "source": [
    "Las `Series` son secuencias ordenadas de unidimensionales que pueden contener diferentes tipos de valores. En esto se parecen a las `listas`. De hecho podemos crear `Series` usando `listas` de la forma:\n",
    "\n",
    "    pd.Series(-lista-)\n",
    "    \n",
    "lo anterior regresa un valor de tipo Series, donde cada valor de la serie son creados a partir de cada valor de la lista."
   ]
  },
  {
   "cell_type": "markdown",
   "metadata": {},
   "source": [
    "Vamos a crear una serie a partir de la lista `[3, 7, 9, 8]` y la vamos a guardar en la variable `serie_1`:"
   ]
  },
  {
   "cell_type": "code",
   "execution_count": 3,
   "metadata": {},
   "outputs": [
    {
     "data": {
      "text/plain": [
       "0    3\n",
       "1    7\n",
       "2    9\n",
       "3    8\n",
       "dtype: int64"
      ]
     },
     "execution_count": 3,
     "metadata": {},
     "output_type": "execute_result"
    }
   ],
   "source": [
    "serie_1 = pd.Series([3, 7, 9, 8])\n",
    "\n",
    "serie_1"
   ]
  },
  {
   "cell_type": "markdown",
   "metadata": {},
   "source": [
    "Una gran diferencia que tienen con las `listas` es que cada elemento en una `Serie` tiene un índice asociado que no necesariamente es una secuencia de enteros como en las `listas`. En este aspecto, nuestras `Series` se parecen a los `diccionarios`."
   ]
  },
  {
   "cell_type": "markdown",
   "metadata": {},
   "source": [
    "La columna de la izquierda es nuestro índice, la columna de la derecha son los datos almacenados y el texto en la parte inferior es el tipo de dato que en este caso es `int64` (el 64 se refiere a la cantidad de bits usados para representar a un entero, aunque Python en capáz de usar números gigantes, el límite es la capacidad del hardware)\n",
    "\n",
    "Los tipos de datos más comunes que podemos encontrar son: \n",
    "\n",
    "1. `int64`: Equivalente a `int`\n",
    "2. `float64`: Equivalente a `float`\n",
    "3. `bool`: Equivalente a `bool`\n",
    "4. `object`: Equivalente a `str`, o indica que hay una mezcla de tipos de datos numéricos y no-numéricos en la `Serie` (ojo con éste)\n",
    "\n",
    "> **Importante**: Tener `Series` que contengan diversos tipos de datos es una **muy mala** práctica. Lo recomendable es siempre tener homogeneidad de tipos de dato en cada `Serie` que tengamos. De todas maneras, se encontrarán por ahí algunos conjuntos de datos que contienen `Series` con tipos de datos diversos. Es por eso que cuando nos topemos con un tipo de dato `obj` tenemos que ser cuidadosos y no asumir automáticamente que el tipo de dato incluido son `strings`."
   ]
  },
  {
   "cell_type": "markdown",
   "metadata": {},
   "source": [
    "Podemos crear `Series` con un índice personalizado, por ejemplo, en lugar de iniciar con 0, podemos iniciar con 1 como el mundo manda, para ello se usa la forma:\n",
    "\n",
    "    pd.Series(-lista-, index=-lista de índices-)"
   ]
  },
  {
   "cell_type": "markdown",
   "metadata": {},
   "source": [
    "Vamos a crear una Serie usando la lista `[4, 7, 9, 8]` y como índices la lista `[1, 2, 3, 4]` y el resultado lo guardamos en la variable `serie_2`:"
   ]
  },
  {
   "cell_type": "code",
   "execution_count": 5,
   "metadata": {},
   "outputs": [
    {
     "data": {
      "text/plain": [
       "1    4\n",
       "2    7\n",
       "3    9\n",
       "4    8\n",
       "dtype: int64"
      ]
     },
     "execution_count": 5,
     "metadata": {},
     "output_type": "execute_result"
    }
   ],
   "source": [
    "...\n",
    "\n",
    "serie_2"
   ]
  },
  {
   "cell_type": "markdown",
   "metadata": {},
   "source": [
    "O podemos usar la función `range(a, b)` que nos permite crear series de números enteros iniciando en `a` y terminando en `b-1`, así que la misma `serie_2` se puede usar de la siguiente forma:"
   ]
  },
  {
   "cell_type": "code",
   "execution_count": 6,
   "metadata": {},
   "outputs": [
    {
     "data": {
      "text/plain": [
       "1    4\n",
       "2    7\n",
       "3    9\n",
       "4    8\n",
       "dtype: int64"
      ]
     },
     "execution_count": 6,
     "metadata": {},
     "output_type": "execute_result"
    }
   ],
   "source": [
    "...\n",
    "\n",
    "serie_2"
   ]
  },
  {
   "cell_type": "markdown",
   "metadata": {},
   "source": [
    "Incluso podemos usar `strings` en el índice, por ejmplo vamor a crear una serie en con los números `[5, 8, 7, 2]` y con índices `[\"a\", \"b\", \"c\", \"d\"]` y el resultado asignarlos a la variable `serie_3`:"
   ]
  },
  {
   "cell_type": "code",
   "execution_count": 7,
   "metadata": {},
   "outputs": [
    {
     "data": {
      "text/plain": [
       "a    5\n",
       "b    8\n",
       "c    7\n",
       "d    2\n",
       "dtype: int64"
      ]
     },
     "execution_count": 7,
     "metadata": {},
     "output_type": "execute_result"
    }
   ],
   "source": [
    "...\n",
    "\n",
    "serie_3"
   ]
  },
  {
   "cell_type": "markdown",
   "metadata": {},
   "source": [
    "Debido a su similitud, podemos incluso crear `Series` usando `diccionarios` y para ello se usa la forma:\n",
    "\n",
    "    pd.Series(-diccionario-)\n",
    "    \n",
    "aquí las llaves pasan a ser nuestro índice."
   ]
  },
  {
   "cell_type": "markdown",
   "metadata": {},
   "source": [
    "Vamos a usar el siguiente diccionario para crear una nueva Serie y asignarla a la variable `series_4`:"
   ]
  },
  {
   "cell_type": "code",
   "execution_count": 8,
   "metadata": {},
   "outputs": [],
   "source": [
    "datos = {\n",
    "    \"Juan\": 45,\n",
    "    \"Pepe\": 56,\n",
    "    \"Alfonsina\": 12,\n",
    "    \"Jenny\": 49,\n",
    "    \"Marco P.\": 12\n",
    "}"
   ]
  },
  {
   "cell_type": "code",
   "execution_count": 9,
   "metadata": {},
   "outputs": [
    {
     "data": {
      "text/plain": [
       "Juan         45\n",
       "Pepe         56\n",
       "Alfonsina    12\n",
       "Jenny        49\n",
       "Marco P.     12\n",
       "dtype: int64"
      ]
     },
     "execution_count": 9,
     "metadata": {},
     "output_type": "execute_result"
    }
   ],
   "source": [
    "...\n",
    "\n",
    "serie_4"
   ]
  },
  {
   "cell_type": "markdown",
   "metadata": {},
   "source": [
    "Al igual que en las listas, podemos acceder a nuestros datos usando los corchetes cuadrados (`[indice]`) y coloando el índice entre ellos, por ejemplo para obtener el primer elemento de la `serie_1` usamos el índice `0`:"
   ]
  },
  {
   "cell_type": "code",
   "execution_count": 14,
   "metadata": {},
   "outputs": [
    {
     "data": {
      "text/plain": [
       "8"
      ]
     },
     "execution_count": 14,
     "metadata": {},
     "output_type": "execute_result"
    }
   ],
   "source": [
    "..."
   ]
  },
  {
   "cell_type": "markdown",
   "metadata": {},
   "source": [
    "Para obtener el último, no es posible usar `-1` como el caso de listas, así que en su caso se pueden contar los números de elementos con la función `len()` y considerando que en la `serie_1` los índices van de `0` a `4` entonces a la longitud hay que restar uno quedando el índice como `len(serie_1) - 1`, así podemos obtener el último elemento:"
   ]
  },
  {
   "cell_type": "code",
   "execution_count": null,
   "metadata": {},
   "outputs": [],
   "source": [
    "..."
   ]
  },
  {
   "cell_type": "markdown",
   "metadata": {},
   "source": [
    "Sin embargo, las series tienen su propia forma de acceder a los elementos, y es por medio de la propiedad `loc[-indice-]`, por ejemplo para obtener el último elemento de la `serie_2` sería:"
   ]
  },
  {
   "cell_type": "code",
   "execution_count": 16,
   "metadata": {},
   "outputs": [
    {
     "data": {
      "text/plain": [
       "8"
      ]
     },
     "execution_count": 16,
     "metadata": {},
     "output_type": "execute_result"
    }
   ],
   "source": [
    "..."
   ]
  },
  {
   "cell_type": "markdown",
   "metadata": {},
   "source": [
    "Nota, que no ha sido necesario restar `1` ¿porqué?"
   ]
  },
  {
   "cell_type": "markdown",
   "metadata": {},
   "source": [
    "También podemos usar también `strings`, vamos a obtener el primero elemento de la `serie_3`:"
   ]
  },
  {
   "cell_type": "code",
   "execution_count": 17,
   "metadata": {},
   "outputs": [
    {
     "data": {
      "text/plain": [
       "5"
      ]
     },
     "execution_count": 17,
     "metadata": {},
     "output_type": "execute_result"
    }
   ],
   "source": [
    "..."
   ]
  },
  {
   "cell_type": "markdown",
   "metadata": {},
   "source": [
    "Y si queremos el último elemento de la `serie_4`:"
   ]
  },
  {
   "cell_type": "code",
   "execution_count": 18,
   "metadata": {},
   "outputs": [
    {
     "data": {
      "text/plain": [
       "12"
      ]
     },
     "execution_count": 18,
     "metadata": {},
     "output_type": "execute_result"
    }
   ],
   "source": [
    "..."
   ]
  },
  {
   "cell_type": "markdown",
   "metadata": {},
   "source": [
    "Otra forma:"
   ]
  },
  {
   "cell_type": "code",
   "execution_count": 21,
   "metadata": {},
   "outputs": [
    {
     "data": {
      "text/plain": [
       "12"
      ]
     },
     "execution_count": 21,
     "metadata": {},
     "output_type": "execute_result"
    }
   ],
   "source": [
    "serie_4.loc[serie_4.index[-1]]"
   ]
  },
  {
   "cell_type": "markdown",
   "metadata": {},
   "source": [
    "¿porqué se puede hacer lo anterior?"
   ]
  },
  {
   "cell_type": "markdown",
   "metadata": {},
   "source": [
    "¡Vayamos a nuestro primer Reto!"
   ]
  },
  {
   "cell_type": "code",
   "execution_count": null,
   "metadata": {},
   "outputs": [],
   "source": []
  }
 ],
 "metadata": {
  "kernelspec": {
   "display_name": "Python 3",
   "language": "python",
   "name": "python3"
  },
  "language_info": {
   "codemirror_mode": {
    "name": "ipython",
    "version": 3
   },
   "file_extension": ".py",
   "mimetype": "text/x-python",
   "name": "python",
   "nbconvert_exporter": "python",
   "pygments_lexer": "ipython3",
   "version": "3.7.4"
  }
 },
 "nbformat": 4,
 "nbformat_minor": 4
}
